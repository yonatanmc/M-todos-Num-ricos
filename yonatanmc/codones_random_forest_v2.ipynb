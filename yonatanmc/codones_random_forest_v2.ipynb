{
  "nbformat": 4,
  "nbformat_minor": 0,
  "metadata": {
    "colab": {
      "name": "codones_random_forest_v2.ipynb",
      "provenance": [],
      "authorship_tag": "ABX9TyOINjxk+sPdz9d0AzKUuaRo"
    },
    "kernelspec": {
      "name": "python3",
      "display_name": "Python 3"
    },
    "language_info": {
      "name": "python"
    }
  },
  "cells": [
    {
      "cell_type": "code",
      "execution_count": null,
      "metadata": {
        "colab": {
          "base_uri": "https://localhost:8080/"
        },
        "id": "KSNQTwPQr-s2",
        "outputId": "f71f1d93-f692-454e-9fa8-17bae80d152d"
      },
      "outputs": [
        {
          "output_type": "stream",
          "name": "stderr",
          "text": [
            "/usr/local/lib/python3.7/dist-packages/IPython/core/interactiveshell.py:2882: DtypeWarning: Columns (5,6) have mixed types.Specify dtype option on import or set low_memory=False.\n",
            "  exec(code_obj, self.user_global_ns, self.user_ns)\n"
          ]
        }
      ],
      "source": [
        "import pandas as pd\n",
        "import zipfile\n",
        "from io import BytesIO\n",
        "import requests\n",
        "\n",
        "url = 'https://archive.ics.uci.edu/ml/machine-learning-databases/00577/codon_usage.csv.zip'\n",
        "r = requests.get(url)\n",
        "buf1 = BytesIO(r.content)\n",
        "with zipfile.ZipFile(buf1, \"r\") as f:\n",
        "    for name in f.namelist():\n",
        "        if name.endswith('.csv'):\n",
        "            with f.open(name) as zd:\n",
        "                df = pd.read_csv(zd, encoding='latin1', sep=',')            \n",
        "            break"
      ]
    },
    {
      "cell_type": "code",
      "source": [
        "df.head()"
      ],
      "metadata": {
        "colab": {
          "base_uri": "https://localhost:8080/",
          "height": 438
        },
        "id": "n5PfzGB8sH_Y",
        "outputId": "e7492a5b-494b-40f1-902b-f135deddd0b1"
      },
      "execution_count": null,
      "outputs": [
        {
          "output_type": "execute_result",
          "data": {
            "text/plain": [
              "  Kingdom  DNAtype  SpeciesID  Ncodons  \\\n",
              "0     vrl        0     100217     1995   \n",
              "1     vrl        0     100220     1474   \n",
              "2     vrl        0     100755     4862   \n",
              "3     vrl        0     100880     1915   \n",
              "4     vrl        0     100887    22831   \n",
              "\n",
              "                               SpeciesName      UUU      UUC      UUA  \\\n",
              "0  Epizootic haematopoietic necrosis virus  0.01654  0.01203  0.00050   \n",
              "1                         Bohle iridovirus  0.02714  0.01357  0.00068   \n",
              "2             Sweet potato leaf curl virus  0.01974   0.0218  0.01357   \n",
              "3             Northern cereal mosaic virus  0.01775  0.02245  0.01619   \n",
              "4           Soil-borne cereal mosaic virus  0.02816  0.01371  0.00767   \n",
              "\n",
              "       UUG      CUU  ...      CGG      AGA      AGG      GAU      GAC  \\\n",
              "0  0.00351  0.01203  ...  0.00451  0.01303  0.03559  0.01003  0.04612   \n",
              "1  0.00678  0.00407  ...  0.00136  0.01696  0.03596  0.01221  0.04545   \n",
              "2  0.01543  0.00782  ...  0.00596  0.01974  0.02489  0.03126  0.02036   \n",
              "3  0.00992  0.01567  ...  0.00366  0.01410  0.01671  0.03760  0.01932   \n",
              "4  0.03679  0.01380  ...  0.00604  0.01494  0.01734  0.04148  0.02483   \n",
              "\n",
              "       GAA      GAG      UAA      UAG      UGA  \n",
              "0  0.01203  0.04361  0.00251  0.00050  0.00000  \n",
              "1  0.01560  0.04410  0.00271  0.00068  0.00000  \n",
              "2  0.02242  0.02468  0.00391  0.00000  0.00144  \n",
              "3  0.03029  0.03446  0.00261  0.00157  0.00000  \n",
              "4  0.03359  0.03679  0.00000  0.00044  0.00131  \n",
              "\n",
              "[5 rows x 69 columns]"
            ],
            "text/html": [
              "\n",
              "  <div id=\"df-d7b3da2d-9996-4d40-b7fb-d2afaaa19471\">\n",
              "    <div class=\"colab-df-container\">\n",
              "      <div>\n",
              "<style scoped>\n",
              "    .dataframe tbody tr th:only-of-type {\n",
              "        vertical-align: middle;\n",
              "    }\n",
              "\n",
              "    .dataframe tbody tr th {\n",
              "        vertical-align: top;\n",
              "    }\n",
              "\n",
              "    .dataframe thead th {\n",
              "        text-align: right;\n",
              "    }\n",
              "</style>\n",
              "<table border=\"1\" class=\"dataframe\">\n",
              "  <thead>\n",
              "    <tr style=\"text-align: right;\">\n",
              "      <th></th>\n",
              "      <th>Kingdom</th>\n",
              "      <th>DNAtype</th>\n",
              "      <th>SpeciesID</th>\n",
              "      <th>Ncodons</th>\n",
              "      <th>SpeciesName</th>\n",
              "      <th>UUU</th>\n",
              "      <th>UUC</th>\n",
              "      <th>UUA</th>\n",
              "      <th>UUG</th>\n",
              "      <th>CUU</th>\n",
              "      <th>...</th>\n",
              "      <th>CGG</th>\n",
              "      <th>AGA</th>\n",
              "      <th>AGG</th>\n",
              "      <th>GAU</th>\n",
              "      <th>GAC</th>\n",
              "      <th>GAA</th>\n",
              "      <th>GAG</th>\n",
              "      <th>UAA</th>\n",
              "      <th>UAG</th>\n",
              "      <th>UGA</th>\n",
              "    </tr>\n",
              "  </thead>\n",
              "  <tbody>\n",
              "    <tr>\n",
              "      <th>0</th>\n",
              "      <td>vrl</td>\n",
              "      <td>0</td>\n",
              "      <td>100217</td>\n",
              "      <td>1995</td>\n",
              "      <td>Epizootic haematopoietic necrosis virus</td>\n",
              "      <td>0.01654</td>\n",
              "      <td>0.01203</td>\n",
              "      <td>0.00050</td>\n",
              "      <td>0.00351</td>\n",
              "      <td>0.01203</td>\n",
              "      <td>...</td>\n",
              "      <td>0.00451</td>\n",
              "      <td>0.01303</td>\n",
              "      <td>0.03559</td>\n",
              "      <td>0.01003</td>\n",
              "      <td>0.04612</td>\n",
              "      <td>0.01203</td>\n",
              "      <td>0.04361</td>\n",
              "      <td>0.00251</td>\n",
              "      <td>0.00050</td>\n",
              "      <td>0.00000</td>\n",
              "    </tr>\n",
              "    <tr>\n",
              "      <th>1</th>\n",
              "      <td>vrl</td>\n",
              "      <td>0</td>\n",
              "      <td>100220</td>\n",
              "      <td>1474</td>\n",
              "      <td>Bohle iridovirus</td>\n",
              "      <td>0.02714</td>\n",
              "      <td>0.01357</td>\n",
              "      <td>0.00068</td>\n",
              "      <td>0.00678</td>\n",
              "      <td>0.00407</td>\n",
              "      <td>...</td>\n",
              "      <td>0.00136</td>\n",
              "      <td>0.01696</td>\n",
              "      <td>0.03596</td>\n",
              "      <td>0.01221</td>\n",
              "      <td>0.04545</td>\n",
              "      <td>0.01560</td>\n",
              "      <td>0.04410</td>\n",
              "      <td>0.00271</td>\n",
              "      <td>0.00068</td>\n",
              "      <td>0.00000</td>\n",
              "    </tr>\n",
              "    <tr>\n",
              "      <th>2</th>\n",
              "      <td>vrl</td>\n",
              "      <td>0</td>\n",
              "      <td>100755</td>\n",
              "      <td>4862</td>\n",
              "      <td>Sweet potato leaf curl virus</td>\n",
              "      <td>0.01974</td>\n",
              "      <td>0.0218</td>\n",
              "      <td>0.01357</td>\n",
              "      <td>0.01543</td>\n",
              "      <td>0.00782</td>\n",
              "      <td>...</td>\n",
              "      <td>0.00596</td>\n",
              "      <td>0.01974</td>\n",
              "      <td>0.02489</td>\n",
              "      <td>0.03126</td>\n",
              "      <td>0.02036</td>\n",
              "      <td>0.02242</td>\n",
              "      <td>0.02468</td>\n",
              "      <td>0.00391</td>\n",
              "      <td>0.00000</td>\n",
              "      <td>0.00144</td>\n",
              "    </tr>\n",
              "    <tr>\n",
              "      <th>3</th>\n",
              "      <td>vrl</td>\n",
              "      <td>0</td>\n",
              "      <td>100880</td>\n",
              "      <td>1915</td>\n",
              "      <td>Northern cereal mosaic virus</td>\n",
              "      <td>0.01775</td>\n",
              "      <td>0.02245</td>\n",
              "      <td>0.01619</td>\n",
              "      <td>0.00992</td>\n",
              "      <td>0.01567</td>\n",
              "      <td>...</td>\n",
              "      <td>0.00366</td>\n",
              "      <td>0.01410</td>\n",
              "      <td>0.01671</td>\n",
              "      <td>0.03760</td>\n",
              "      <td>0.01932</td>\n",
              "      <td>0.03029</td>\n",
              "      <td>0.03446</td>\n",
              "      <td>0.00261</td>\n",
              "      <td>0.00157</td>\n",
              "      <td>0.00000</td>\n",
              "    </tr>\n",
              "    <tr>\n",
              "      <th>4</th>\n",
              "      <td>vrl</td>\n",
              "      <td>0</td>\n",
              "      <td>100887</td>\n",
              "      <td>22831</td>\n",
              "      <td>Soil-borne cereal mosaic virus</td>\n",
              "      <td>0.02816</td>\n",
              "      <td>0.01371</td>\n",
              "      <td>0.00767</td>\n",
              "      <td>0.03679</td>\n",
              "      <td>0.01380</td>\n",
              "      <td>...</td>\n",
              "      <td>0.00604</td>\n",
              "      <td>0.01494</td>\n",
              "      <td>0.01734</td>\n",
              "      <td>0.04148</td>\n",
              "      <td>0.02483</td>\n",
              "      <td>0.03359</td>\n",
              "      <td>0.03679</td>\n",
              "      <td>0.00000</td>\n",
              "      <td>0.00044</td>\n",
              "      <td>0.00131</td>\n",
              "    </tr>\n",
              "  </tbody>\n",
              "</table>\n",
              "<p>5 rows × 69 columns</p>\n",
              "</div>\n",
              "      <button class=\"colab-df-convert\" onclick=\"convertToInteractive('df-d7b3da2d-9996-4d40-b7fb-d2afaaa19471')\"\n",
              "              title=\"Convert this dataframe to an interactive table.\"\n",
              "              style=\"display:none;\">\n",
              "        \n",
              "  <svg xmlns=\"http://www.w3.org/2000/svg\" height=\"24px\"viewBox=\"0 0 24 24\"\n",
              "       width=\"24px\">\n",
              "    <path d=\"M0 0h24v24H0V0z\" fill=\"none\"/>\n",
              "    <path d=\"M18.56 5.44l.94 2.06.94-2.06 2.06-.94-2.06-.94-.94-2.06-.94 2.06-2.06.94zm-11 1L8.5 8.5l.94-2.06 2.06-.94-2.06-.94L8.5 2.5l-.94 2.06-2.06.94zm10 10l.94 2.06.94-2.06 2.06-.94-2.06-.94-.94-2.06-.94 2.06-2.06.94z\"/><path d=\"M17.41 7.96l-1.37-1.37c-.4-.4-.92-.59-1.43-.59-.52 0-1.04.2-1.43.59L10.3 9.45l-7.72 7.72c-.78.78-.78 2.05 0 2.83L4 21.41c.39.39.9.59 1.41.59.51 0 1.02-.2 1.41-.59l7.78-7.78 2.81-2.81c.8-.78.8-2.07 0-2.86zM5.41 20L4 18.59l7.72-7.72 1.47 1.35L5.41 20z\"/>\n",
              "  </svg>\n",
              "      </button>\n",
              "      \n",
              "  <style>\n",
              "    .colab-df-container {\n",
              "      display:flex;\n",
              "      flex-wrap:wrap;\n",
              "      gap: 12px;\n",
              "    }\n",
              "\n",
              "    .colab-df-convert {\n",
              "      background-color: #E8F0FE;\n",
              "      border: none;\n",
              "      border-radius: 50%;\n",
              "      cursor: pointer;\n",
              "      display: none;\n",
              "      fill: #1967D2;\n",
              "      height: 32px;\n",
              "      padding: 0 0 0 0;\n",
              "      width: 32px;\n",
              "    }\n",
              "\n",
              "    .colab-df-convert:hover {\n",
              "      background-color: #E2EBFA;\n",
              "      box-shadow: 0px 1px 2px rgba(60, 64, 67, 0.3), 0px 1px 3px 1px rgba(60, 64, 67, 0.15);\n",
              "      fill: #174EA6;\n",
              "    }\n",
              "\n",
              "    [theme=dark] .colab-df-convert {\n",
              "      background-color: #3B4455;\n",
              "      fill: #D2E3FC;\n",
              "    }\n",
              "\n",
              "    [theme=dark] .colab-df-convert:hover {\n",
              "      background-color: #434B5C;\n",
              "      box-shadow: 0px 1px 3px 1px rgba(0, 0, 0, 0.15);\n",
              "      filter: drop-shadow(0px 1px 2px rgba(0, 0, 0, 0.3));\n",
              "      fill: #FFFFFF;\n",
              "    }\n",
              "  </style>\n",
              "\n",
              "      <script>\n",
              "        const buttonEl =\n",
              "          document.querySelector('#df-d7b3da2d-9996-4d40-b7fb-d2afaaa19471 button.colab-df-convert');\n",
              "        buttonEl.style.display =\n",
              "          google.colab.kernel.accessAllowed ? 'block' : 'none';\n",
              "\n",
              "        async function convertToInteractive(key) {\n",
              "          const element = document.querySelector('#df-d7b3da2d-9996-4d40-b7fb-d2afaaa19471');\n",
              "          const dataTable =\n",
              "            await google.colab.kernel.invokeFunction('convertToInteractive',\n",
              "                                                     [key], {});\n",
              "          if (!dataTable) return;\n",
              "\n",
              "          const docLinkHtml = 'Like what you see? Visit the ' +\n",
              "            '<a target=\"_blank\" href=https://colab.research.google.com/notebooks/data_table.ipynb>data table notebook</a>'\n",
              "            + ' to learn more about interactive tables.';\n",
              "          element.innerHTML = '';\n",
              "          dataTable['output_type'] = 'display_data';\n",
              "          await google.colab.output.renderOutput(dataTable, element);\n",
              "          const docLink = document.createElement('div');\n",
              "          docLink.innerHTML = docLinkHtml;\n",
              "          element.appendChild(docLink);\n",
              "        }\n",
              "      </script>\n",
              "    </div>\n",
              "  </div>\n",
              "  "
            ]
          },
          "metadata": {},
          "execution_count": 2
        }
      ]
    },
    {
      "cell_type": "code",
      "source": [
        "df['Kingdom'].value_counts()"
      ],
      "metadata": {
        "colab": {
          "base_uri": "https://localhost:8080/"
        },
        "id": "op1rCDObsZ6Z",
        "outputId": "009fdd89-fd6f-4276-c1fa-2e066bdc27c0"
      },
      "execution_count": null,
      "outputs": [
        {
          "output_type": "execute_result",
          "data": {
            "text/plain": [
              "bct    2920\n",
              "vrl    2832\n",
              "pln    2523\n",
              "vrt    2077\n",
              "inv    1345\n",
              "mam     572\n",
              "phg     220\n",
              "rod     215\n",
              "pri     180\n",
              "arc     126\n",
              "plm      18\n",
              "Name: Kingdom, dtype: int64"
            ]
          },
          "metadata": {},
          "execution_count": 3
        }
      ]
    },
    {
      "cell_type": "code",
      "source": [
        "df['DNAtype'].value_counts()"
      ],
      "metadata": {
        "colab": {
          "base_uri": "https://localhost:8080/"
        },
        "id": "6qkHBBLNsgPB",
        "outputId": "a8604a99-87f3-413d-cf33-3c97a356e189"
      },
      "execution_count": null,
      "outputs": [
        {
          "output_type": "execute_result",
          "data": {
            "text/plain": [
              "0     9267\n",
              "1     2899\n",
              "2      816\n",
              "4       31\n",
              "12       5\n",
              "3        2\n",
              "9        2\n",
              "5        2\n",
              "11       2\n",
              "6        1\n",
              "7        1\n",
              "Name: DNAtype, dtype: int64"
            ]
          },
          "metadata": {},
          "execution_count": 4
        }
      ]
    },
    {
      "cell_type": "code",
      "source": [
        "import matplotlib.pyplot as plt\n",
        "import seaborn as sns\n",
        "%matplotlib inline "
      ],
      "metadata": {
        "id": "p9-7kDp2sjQY"
      },
      "execution_count": null,
      "outputs": []
    },
    {
      "cell_type": "code",
      "source": [
        "sns.countplot(df['Kingdom'])"
      ],
      "metadata": {
        "colab": {
          "base_uri": "https://localhost:8080/",
          "height": 351
        },
        "id": "3gdVG83NsjF_",
        "outputId": "ff5ede21-307c-4aa0-a11c-00fcb14aca29"
      },
      "execution_count": null,
      "outputs": [
        {
          "output_type": "stream",
          "name": "stderr",
          "text": [
            "/usr/local/lib/python3.7/dist-packages/seaborn/_decorators.py:43: FutureWarning: Pass the following variable as a keyword arg: x. From version 0.12, the only valid positional argument will be `data`, and passing other arguments without an explicit keyword will result in an error or misinterpretation.\n",
            "  FutureWarning\n"
          ]
        },
        {
          "output_type": "execute_result",
          "data": {
            "text/plain": [
              "<matplotlib.axes._subplots.AxesSubplot at 0x7f2d9069d3d0>"
            ]
          },
          "metadata": {},
          "execution_count": 6
        },
        {
          "output_type": "display_data",
          "data": {
            "text/plain": [
              "<Figure size 432x288 with 1 Axes>"
            ],
            "image/png": "[encoded data removed]"
          },
          "metadata": {
            "needs_background": "light"
          }
        }
      ]
    },
    {
      "cell_type": "code",
      "source": [
        "sns.countplot(df['DNAtype'])"
      ],
      "metadata": {
        "colab": {
          "base_uri": "https://localhost:8080/",
          "height": 351
        },
        "id": "0O4GsCQ3snjI",
        "outputId": "3b41a284-e384-4d81-bd84-c9d0116a2bf8"
      },
      "execution_count": null,
      "outputs": [
        {
          "output_type": "stream",
          "name": "stderr",
          "text": [
            "/usr/local/lib/python3.7/dist-packages/seaborn/_decorators.py:43: FutureWarning: Pass the following variable as a keyword arg: x. From version 0.12, the only valid positional argument will be `data`, and passing other arguments without an explicit keyword will result in an error or misinterpretation.\n",
            "  FutureWarning\n"
          ]
        },
        {
          "output_type": "execute_result",
          "data": {
            "text/plain": [
              "<matplotlib.axes._subplots.AxesSubplot at 0x7f2d814967d0>"
            ]
          },
          "metadata": {},
          "execution_count": 7
        },
        {
          "output_type": "display_data",
          "data": {
            "text/plain": [
              "<Figure size 432x288 with 1 Axes>"
            ],
            "image/png": "[encoded data removed]"
          },
          "metadata": {
            "needs_background": "light"
          }
        }
      ]
    },
    {
      "cell_type": "code",
      "source": [
        "import numpy as np\n",
        "\n",
        "#remplazar valores 'non-B hepatitis virus','12;I', '-' con NAN \n",
        "df['UUU'] = df['UUU'].replace(['non-B hepatitis virus','12;I'], np.nan)\n",
        "df['UUC'] = df['UUC'].replace('-', np.nan)\n",
        "\n",
        "#convertir las columnas a tipo float32 porque inicialmente se encontraban tipo objeto\n",
        "\n",
        "df['UUU'] = df['UUU'].astype('float32')\n",
        "df['UUC'] = df['UUC'].astype('float32')"
      ],
      "metadata": {
        "id": "ZDE0K5JzswWx"
      },
      "execution_count": null,
      "outputs": []
    },
    {
      "cell_type": "code",
      "source": [
        "#eliminar registros que tienen valores NAN (para este caso sólo eliminará dos registros)\n",
        "df.dropna(inplace=True)"
      ],
      "metadata": {
        "id": "lK4oZWS4sywI"
      },
      "execution_count": null,
      "outputs": []
    },
    {
      "cell_type": "code",
      "source": [
        "#Copia de dataset para modelos de clasificación con DNA y Kingdom\n",
        "df_dna = df.copy()\n",
        "df_kingdom = df.copy()"
      ],
      "metadata": {
        "id": "ZScMcrJIs0WQ"
      },
      "execution_count": null,
      "outputs": []
    },
    {
      "cell_type": "code",
      "source": [
        ""
      ],
      "metadata": {
        "id": "MrC_pV8Rs64Q"
      },
      "execution_count": null,
      "outputs": []
    },
    {
      "cell_type": "markdown",
      "source": [
        "### DNA"
      ],
      "metadata": {
        "id": "g6QQZPo8s7ag"
      }
    },
    {
      "cell_type": "code",
      "source": [
        "count_dnatype = df_dna['DNAtype'].value_counts()\n",
        "\n",
        "# convirtiendo a tipo dataframa las clases DNAType & cantidad\n",
        "df_counts_dna = pd.DataFrame(count_dnatype)\n",
        "df_counts_reset_dna = df_counts_dna.reset_index()\n",
        "df_counts_reset_dna.columns = ['DNAType_unique', 'counts'] # change column names\n",
        "\n",
        "for i in range(len(df_counts_reset_dna)):\n",
        "  if df_counts_reset_dna['counts'][i] <= 31:\n",
        "    df_dna.drop(df_dna[df_dna['DNAtype']==df_counts_reset_dna['DNAType_unique'][i]].index, axis=0, inplace=True)    "
      ],
      "metadata": {
        "id": "UhMLBqUutfqZ"
      },
      "execution_count": null,
      "outputs": []
    },
    {
      "cell_type": "code",
      "source": [
        "df_dna['DNAtype'].value_counts()"
      ],
      "metadata": {
        "colab": {
          "base_uri": "https://localhost:8080/"
        },
        "id": "nWfRKTGauRYK",
        "outputId": "3ceb0998-8e51-4112-b717-2987a7d9f30d"
      },
      "execution_count": null,
      "outputs": [
        {
          "output_type": "execute_result",
          "data": {
            "text/plain": [
              "0    9265\n",
              "1    2899\n",
              "2     816\n",
              "Name: DNAtype, dtype: int64"
            ]
          },
          "metadata": {},
          "execution_count": 12
        }
      ]
    },
    {
      "cell_type": "code",
      "source": [
        "X_dna = df_dna.drop(columns = ['DNAtype', 'Kingdom', 'SpeciesName', 'SpeciesID'], axis = 1)\n",
        "y_dna = df_dna['DNAtype']"
      ],
      "metadata": {
        "id": "ndvCWLPfulOo"
      },
      "execution_count": null,
      "outputs": []
    },
    {
      "cell_type": "code",
      "source": [
        "print(\"Dimensión X \", X_dna.shape)\n",
        "print(\"Dimensión y \", y_dna.shape)"
      ],
      "metadata": {
        "colab": {
          "base_uri": "https://localhost:8080/"
        },
        "id": "PAeNowg8uqBH",
        "outputId": "fe5c0ed4-2c48-4a77-bac0-96cff6095e30"
      },
      "execution_count": null,
      "outputs": [
        {
          "output_type": "stream",
          "name": "stdout",
          "text": [
            "Dimensión X  (12980, 65)\n",
            "Dimensión y  (12980,)\n"
          ]
        }
      ]
    },
    {
      "cell_type": "code",
      "source": [
        "from sklearn.model_selection import train_test_split\n",
        "X_train_dna, X_test_dna, y_train_dna, y_test_dna = train_test_split(X_dna, y_dna, test_size = 0.2, random_state = 0)"
      ],
      "metadata": {
        "id": "m0Wrq6wOvJ04"
      },
      "execution_count": null,
      "outputs": []
    },
    {
      "cell_type": "code",
      "source": [
        "from pprint import pprint\n",
        "rf_grid_dna = {'max_depth':[3,5,10,None],\n",
        "          'n_estimators':[10,100,200,300,400,500],\n",
        "          'max_features':['auto', 'sqrt'],\n",
        "          'criterion':['gini','entropy'],\n",
        "          'bootstrap':[True,False],\n",
        "          'min_samples_leaf':[1, 2, 4],\n",
        "          'min_samples_split': [2, 4, 5, 10]\n",
        "  }\n",
        "print('Los valores a probar en la búsqueda por grilla son:')\n",
        "pprint(rf_grid_dna)"
      ],
      "metadata": {
        "colab": {
          "base_uri": "https://localhost:8080/"
        },
        "id": "bfm6YLTcuszn",
        "outputId": "01ff1f59-8420-48db-8424-6f741bf360f7"
      },
      "execution_count": null,
      "outputs": [
        {
          "output_type": "stream",
          "name": "stdout",
          "text": [
            "Los valores a probar en la búsqueda por grilla son:\n",
            "{'bootstrap': [True, False],\n",
            " 'criterion': ['gini', 'entropy'],\n",
            " 'max_depth': [3, 5, 10, None],\n",
            " 'max_features': ['auto', 'sqrt'],\n",
            " 'min_samples_leaf': [1, 2, 4],\n",
            " 'min_samples_split': [2, 4, 5, 10],\n",
            " 'n_estimators': [10, 100, 200, 300, 400, 500]}\n"
          ]
        }
      ]
    },
    {
      "cell_type": "code",
      "source": [
        "from sklearn.ensemble import RandomForestClassifier\n",
        "from sklearn.model_selection import RandomizedSearchCV\n",
        "\n",
        "model_grid_rfc_dna = RandomForestClassifier()\n",
        "rf_grid_search_dna = RandomizedSearchCV(\n",
        "    estimator=model_grid_rfc_dna,\n",
        "    param_distributions=rf_grid_dna,\n",
        "    n_jobs=-1,    \n",
        "    cv=3\n",
        ")\n",
        "rf_grid_search_dna.fit(X_train_dna, y_train_dna)\n",
        "\n",
        "rf_gridsearch_best = rf_grid_search_dna.best_estimator_\n",
        "\n",
        "print('Los hiperparámetros del mejor modelo son:')\n",
        "pprint(rf_grid_search_dna.best_params_)\n",
        "print()\n",
        "\n",
        "print('Exactitud luego de búsqueda en grilla en entrenamiento DNA:', rf_gridsearch_best.score(X_train_dna, y_train_dna))\n",
        "print('Exactitud luego de búsqueda en grilla en validación DNA:', rf_gridsearch_best.score(X_test_dna, y_test_dna))"
      ],
      "metadata": {
        "colab": {
          "base_uri": "https://localhost:8080/"
        },
        "id": "Li13iJGguvq_",
        "outputId": "8b7b4c98-8324-43ee-9ea9-cc959b76fb33"
      },
      "execution_count": null,
      "outputs": [
        {
          "output_type": "stream",
          "name": "stdout",
          "text": [
            "Los hiperparámetros del mejor modelo son:\n",
            "{'bootstrap': False,\n",
            " 'criterion': 'gini',\n",
            " 'max_depth': 10,\n",
            " 'max_features': 'auto',\n",
            " 'min_samples_leaf': 2,\n",
            " 'min_samples_split': 2,\n",
            " 'n_estimators': 200}\n",
            "\n",
            "Exactitud luego de búsqueda en grilla en entrenamiento DNA: 0.9975924499229584\n",
            "Exactitud luego de búsqueda en grilla en validación DNA: 0.9934514637904468\n"
          ]
        }
      ]
    },
    {
      "cell_type": "code",
      "source": [
        "# Aplicando SmoteTomek\n",
        "from imblearn.combine import SMOTETomek\n",
        "smt_dna = SMOTETomek()\n",
        "X_train_dna_smt, y_train_dna_smt = smt_dna.fit_resample(X_train_dna, y_train_dna)\n",
        "print(f'''Cambio de X train dna antes de SMOTE: {X_train_dna.shape} \n",
        "Cambio de X train dna después de SMOTE: {X_train_dna_smt.shape}''')\n",
        "\n",
        "\n",
        "print('\\n Balance de class DNA :')\n",
        "y_train_dna_smt.value_counts()"
      ],
      "metadata": {
        "colab": {
          "base_uri": "https://localhost:8080/"
        },
        "id": "SqDIwAGzxPiI",
        "outputId": "95435f96-7d06-4dc8-fdbd-474b1f9ca0fa"
      },
      "execution_count": null,
      "outputs": [
        {
          "output_type": "stream",
          "name": "stdout",
          "text": [
            "Cambio de X train dna antes de SMOTE: (10384, 65) \n",
            "Cambio de X train dna después de SMOTE: (19226, 65)\n",
            "\n",
            " Balance de class DNA :\n"
          ]
        },
        {
          "output_type": "execute_result",
          "data": {
            "text/plain": [
              "2    6600\n",
              "1    6390\n",
              "0    6236\n",
              "Name: DNAtype, dtype: int64"
            ]
          },
          "metadata": {},
          "execution_count": 18
        }
      ]
    },
    {
      "cell_type": "code",
      "source": [
        "from sklearn.decomposition import PCA\n",
        "\n",
        "pca_dna = PCA(n_components=3)\n",
        "X_train_smt_dna_pca = pca_dna.fit_transform(X_train_dna_smt)\n",
        "X_test_dna_pca = pca_dna.transform(X_test_dna)\n",
        "pca_dna.explained_variance_ratio_"
      ],
      "metadata": {
        "colab": {
          "base_uri": "https://localhost:8080/"
        },
        "id": "X2OE9pE0xxlA",
        "outputId": "e0a58595-d1f6-42ae-de4f-0d64a263c6fd"
      },
      "execution_count": null,
      "outputs": [
        {
          "output_type": "execute_result",
          "data": {
            "text/plain": [
              "array([1.00000000e+00, 1.21008111e-14, 8.24577844e-15])"
            ]
          },
          "metadata": {},
          "execution_count": 19
        }
      ]
    },
    {
      "cell_type": "code",
      "source": [
        "#from sklearn.ensemble import RandomForestClassifier\n",
        "#from sklearn.model_selection import RandomizedSearchCV\n",
        "\n",
        "model_grid_rfc_dna_pca = RandomForestClassifier()\n",
        "rf_grid_search_dna_pca = RandomizedSearchCV(\n",
        "    estimator=model_grid_rfc_dna_pca,\n",
        "    param_distributions=rf_grid_dna,\n",
        "    n_jobs=-1,    \n",
        "    cv=3\n",
        ")\n",
        "rf_grid_search_dna_pca.fit(X_train_smt_dna_pca, y_train_dna_smt)\n",
        "\n",
        "rf_gridsearch_best_pca = rf_grid_search_dna_pca.best_estimator_\n",
        "\n",
        "print('Los hiperparámetros del mejor modelo son:')\n",
        "pprint(rf_grid_search_dna_pca.best_params_)\n",
        "print()\n",
        "\n",
        "print('Exactitud luego de búsqueda en grilla en entrenamiento DNA:', rf_gridsearch_best_pca.score(X_train_smt_dna_pca, y_train_dna_smt))\n",
        "print('Exactitud luego de búsqueda en grilla en validación DNA:', rf_gridsearch_best_pca.score(X_test_dna_pca, y_test_dna))"
      ],
      "metadata": {
        "colab": {
          "base_uri": "https://localhost:8080/"
        },
        "id": "CVX5tnhCxyBO",
        "outputId": "2724c46e-6360-4907-b704-ec38c56e9dbe"
      },
      "execution_count": null,
      "outputs": [
        {
          "output_type": "stream",
          "name": "stdout",
          "text": [
            "Los hiperparámetros del mejor modelo son:\n",
            "{'bootstrap': True,\n",
            " 'criterion': 'entropy',\n",
            " 'max_depth': None,\n",
            " 'max_features': 'auto',\n",
            " 'min_samples_leaf': 1,\n",
            " 'min_samples_split': 4,\n",
            " 'n_estimators': 400}\n",
            "\n",
            "Exactitud luego de búsqueda en grilla en entrenamiento DNA: 0.999739935504005\n",
            "Exactitud luego de búsqueda en grilla en validación DNA: 0.948382126348228\n"
          ]
        }
      ]
    },
    {
      "cell_type": "code",
      "source": [
        ""
      ],
      "metadata": {
        "id": "wJqeE7Uq4tAa"
      },
      "execution_count": null,
      "outputs": []
    },
    {
      "cell_type": "markdown",
      "source": [
        "### Kingdom"
      ],
      "metadata": {
        "id": "87en6gMd4wqC"
      }
    },
    {
      "cell_type": "code",
      "source": [
        "count_kingdom = df_kingdom['Kingdom'].value_counts()\n",
        "\n",
        "# convirtiendo a tipo dataframa las clases kingdom & cantidad\n",
        "df_counts_kingdom = pd.DataFrame(count_kingdom)\n",
        "df_counts_reset_kingdom = df_counts_kingdom.reset_index()\n",
        "df_counts_reset_kingdom.columns = ['Kingdom_unique', 'counts'] # change column names\n",
        "\n",
        "for i in range(len(df_counts_reset_kingdom)):\n",
        "  if df_counts_reset_kingdom['counts'][i] <= 572:\n",
        "    df_kingdom.drop(df_kingdom[df_kingdom['Kingdom']==df_counts_reset_kingdom['Kingdom_unique'][i]].index, axis=0, inplace=True)    "
      ],
      "metadata": {
        "id": "fQaw_ZKL4ySB"
      },
      "execution_count": null,
      "outputs": []
    },
    {
      "cell_type": "code",
      "source": [
        "df_kingdom['Kingdom'].value_counts()"
      ],
      "metadata": {
        "colab": {
          "base_uri": "https://localhost:8080/"
        },
        "id": "PjWOifuc5uCN",
        "outputId": "494a6f88-6e07-4663-8c58-92b44eb6dc3e"
      },
      "execution_count": null,
      "outputs": [
        {
          "output_type": "execute_result",
          "data": {
            "text/plain": [
              "bct    2919\n",
              "vrl    2831\n",
              "pln    2523\n",
              "vrt    2077\n",
              "inv    1345\n",
              "Name: Kingdom, dtype: int64"
            ]
          },
          "metadata": {},
          "execution_count": 22
        }
      ]
    },
    {
      "cell_type": "code",
      "source": [
        "from sklearn.preprocessing import LabelEncoder\n",
        "le = LabelEncoder()\n",
        "df_kingdom['Kingdom'] = le.fit_transform(df_kingdom['Kingdom'])"
      ],
      "metadata": {
        "id": "87ZYZeeG631n"
      },
      "execution_count": null,
      "outputs": []
    },
    {
      "cell_type": "code",
      "source": [
        "X_kingdom = df_kingdom.drop(columns = ['DNAtype', 'Kingdom', 'SpeciesName', 'SpeciesID'], axis = 1)\n",
        "y_kingdom = df_kingdom['Kingdom']"
      ],
      "metadata": {
        "id": "nx8sRJaE5tu-"
      },
      "execution_count": null,
      "outputs": []
    },
    {
      "cell_type": "code",
      "source": [
        "print(\"Dimensión X Kingdom \", X_kingdom.shape)\n",
        "print(\"Dimensión y Kingdom \", y_kingdom.shape)"
      ],
      "metadata": {
        "colab": {
          "base_uri": "https://localhost:8080/"
        },
        "id": "sW8Rwtep6RmP",
        "outputId": "5f246bcb-1fca-4dbd-8e65-60cad75a1297"
      },
      "execution_count": null,
      "outputs": [
        {
          "output_type": "stream",
          "name": "stdout",
          "text": [
            "Dimensión X Kingdom  (11695, 65)\n",
            "Dimensión y Kingdom  (11695,)\n"
          ]
        }
      ]
    },
    {
      "cell_type": "code",
      "source": [
        "from sklearn.model_selection import train_test_split\n",
        "X_train_kingdom, X_test_kingdom, y_train_kingdom, y_test_kingdom = train_test_split(X_kingdom, y_kingdom, test_size = 0.2, random_state = 0)"
      ],
      "metadata": {
        "id": "zQppid0J6aw9"
      },
      "execution_count": null,
      "outputs": []
    },
    {
      "cell_type": "code",
      "source": [
        "from pprint import pprint\n",
        "rf_grid_kingdom = {'max_depth':[3,5,10,None],\n",
        "          'n_estimators':[10,100,200,300,400,500],\n",
        "          'max_features':['auto', 'sqrt'],\n",
        "          'criterion':['gini','entropy'],\n",
        "          'bootstrap':[True,False],\n",
        "          'min_samples_leaf':[1, 2, 4],\n",
        "          'min_samples_split': [2, 4, 5, 10]\n",
        "  }\n",
        "print('Los valores a probar en la búsqueda por grilla son:')\n",
        "pprint(rf_grid_kingdom)"
      ],
      "metadata": {
        "colab": {
          "base_uri": "https://localhost:8080/"
        },
        "id": "9pYeJh6k6f8o",
        "outputId": "68e8697f-ab8f-4fee-b972-1e697b617f79"
      },
      "execution_count": null,
      "outputs": [
        {
          "output_type": "stream",
          "name": "stdout",
          "text": [
            "Los valores a probar en la búsqueda por grilla son:\n",
            "{'bootstrap': [True, False],\n",
            " 'criterion': ['gini', 'entropy'],\n",
            " 'max_depth': [3, 5, 10, None],\n",
            " 'max_features': ['auto', 'sqrt'],\n",
            " 'min_samples_leaf': [1, 2, 4],\n",
            " 'min_samples_split': [2, 4, 5, 10],\n",
            " 'n_estimators': [10, 100, 200, 300, 400, 500]}\n"
          ]
        }
      ]
    },
    {
      "cell_type": "code",
      "source": [
        "from sklearn.ensemble import RandomForestClassifier\n",
        "from sklearn.model_selection import RandomizedSearchCV\n",
        "\n",
        "model_grid_rfc_kingdom = RandomForestClassifier()\n",
        "rf_grid_search_kingdom = RandomizedSearchCV(\n",
        "    estimator=model_grid_rfc_kingdom,\n",
        "    param_distributions=rf_grid_kingdom,\n",
        "    n_jobs=-1,    \n",
        "    cv=3\n",
        ")\n",
        "rf_grid_search_kingdom.fit(X_train_kingdom, y_train_kingdom)\n",
        "\n",
        "rf_gridsearch_best_kingdom = rf_grid_search_kingdom.best_estimator_\n",
        "\n",
        "print('Los hiperparámetros del mejor modelo son:')\n",
        "pprint(rf_grid_search_kingdom.best_params_)\n",
        "print()\n",
        "\n",
        "print('Exactitud luego de búsqueda en grilla en entrenamiento kingdom:', rf_gridsearch_best_kingdom.score(X_train_kingdom, y_train_kingdom))\n",
        "print('Exactitud luego de búsqueda en grilla en validación kingdom:', rf_gridsearch_best_kingdom.score(X_test_kingdom, y_test_kingdom))"
      ],
      "metadata": {
        "colab": {
          "base_uri": "https://localhost:8080/"
        },
        "id": "fAR_S3Fu7Kie",
        "outputId": "5a38080e-2319-44b8-ff82-3555ec46e229"
      },
      "execution_count": null,
      "outputs": [
        {
          "output_type": "stream",
          "name": "stdout",
          "text": [
            "Los hiperparámetros del mejor modelo son:\n",
            "{'bootstrap': True,\n",
            " 'criterion': 'gini',\n",
            " 'max_depth': None,\n",
            " 'max_features': 'auto',\n",
            " 'min_samples_leaf': 1,\n",
            " 'min_samples_split': 5,\n",
            " 'n_estimators': 500}\n",
            "\n",
            "Exactitud luego de búsqueda en grilla en entrenamiento kingdom: 0.9998931167165456\n",
            "Exactitud luego de búsqueda en grilla en validación kingdom: 0.9397178281316803\n"
          ]
        }
      ]
    },
    {
      "cell_type": "code",
      "source": [
        "# Aplicando SmoteTomek kingdom\n",
        "from imblearn.combine import SMOTETomek\n",
        "smt_kingdom = SMOTETomek()\n",
        "X_train_kingdom_smt, y_train_kingdom_smt = smt_kingdom.fit_resample(X_train_kingdom, y_train_kingdom)\n",
        "print(f'''Cambio de X train dna antes de SMOTE: {X_train_kingdom.shape} \n",
        "Cambio de X train dna después de SMOTE: {X_train_kingdom_smt.shape}''')\n",
        "\n",
        "\n",
        "print('\\n Balance de class DNA :')\n",
        "y_train_kingdom_smt.value_counts()"
      ],
      "metadata": {
        "colab": {
          "base_uri": "https://localhost:8080/"
        },
        "id": "KAYB46RF73eH",
        "outputId": "614fa31b-0e21-4228-c9b7-50eb325a45ff"
      },
      "execution_count": null,
      "outputs": [
        {
          "output_type": "stream",
          "name": "stdout",
          "text": [
            "Cambio de X train dna antes de SMOTE: (9356, 65) \n",
            "Cambio de X train dna después de SMOTE: (7696, 65)\n",
            "\n",
            " Balance de class DNA :\n"
          ]
        },
        {
          "output_type": "execute_result",
          "data": {
            "text/plain": [
              "4    1744\n",
              "1    1552\n",
              "2    1483\n",
              "0    1481\n",
              "3    1436\n",
              "Name: Kingdom, dtype: int64"
            ]
          },
          "metadata": {},
          "execution_count": 29
        }
      ]
    },
    {
      "cell_type": "code",
      "source": [
        "from sklearn.decomposition import PCA\n",
        "\n",
        "pca_kingdom = PCA(n_components=20)\n",
        "X_train_smt_kingdom_pca = pca_kingdom.fit_transform(X_train_kingdom_smt)\n",
        "X_test_kingdom_pca = pca_kingdom.transform(X_test_kingdom)\n",
        "pca_kingdom.explained_variance_ratio_"
      ],
      "metadata": {
        "colab": {
          "base_uri": "https://localhost:8080/"
        },
        "id": "aDa8dpjW8L4g",
        "outputId": "4200aba5-5674-492a-decb-62819b22f209"
      },
      "execution_count": null,
      "outputs": [
        {
          "output_type": "execute_result",
          "data": {
            "text/plain": [
              "array([1.00000000e+00, 6.22400741e-15, 3.94918854e-15, 1.29693635e-15,\n",
              "       6.33626625e-16, 4.85531752e-16, 4.41015489e-16, 3.67082388e-16,\n",
              "       3.22327183e-16, 2.51428664e-16, 2.08031663e-16, 1.98910924e-16,\n",
              "       1.76904525e-16, 1.68135745e-16, 1.58785603e-16, 1.34620179e-16,\n",
              "       1.22016615e-16, 1.15585511e-16, 1.10660383e-16, 1.07343443e-16])"
            ]
          },
          "metadata": {},
          "execution_count": 35
        }
      ]
    },
    {
      "cell_type": "code",
      "source": [
        "model_grid_rfc_kingdom_pca = RandomForestClassifier()\n",
        "rf_grid_search_kingdom_pca = RandomizedSearchCV(\n",
        "    estimator=model_grid_rfc_kingdom_pca,\n",
        "    param_distributions=rf_grid_kingdom,\n",
        "    n_jobs=-1,    \n",
        "    cv=3\n",
        ")\n",
        "rf_grid_search_kingdom_pca.fit(X_train_smt_kingdom_pca, y_train_kingdom_smt)\n",
        "\n",
        "rf_gridsearch_best_pca_kingdom = rf_grid_search_kingdom_pca.best_estimator_\n",
        "\n",
        "print('Los hiperparámetros del mejor modelo son:')\n",
        "pprint(rf_grid_search_kingdom_pca.best_params_)\n",
        "print()\n",
        "\n",
        "print('Exactitud luego de búsqueda en grilla en entrenamiento kingdom:', rf_gridsearch_best_pca_kingdom.score(X_train_smt_kingdom_pca, y_train_kingdom_smt))\n",
        "print('Exactitud luego de búsqueda en grilla en validación kingdom:', rf_gridsearch_best_pca_kingdom.score(X_test_kingdom_pca, y_test_kingdom))"
      ],
      "metadata": {
        "colab": {
          "base_uri": "https://localhost:8080/"
        },
        "id": "fVBsgtOA8479",
        "outputId": "d415685b-bac9-45b1-d376-6f844ed1c57a"
      },
      "execution_count": null,
      "outputs": [
        {
          "output_type": "stream",
          "name": "stdout",
          "text": [
            "Los hiperparámetros del mejor modelo son:\n",
            "{'bootstrap': False,\n",
            " 'criterion': 'entropy',\n",
            " 'max_depth': None,\n",
            " 'max_features': 'auto',\n",
            " 'min_samples_leaf': 1,\n",
            " 'min_samples_split': 2,\n",
            " 'n_estimators': 300}\n",
            "\n",
            "Exactitud luego de búsqueda en grilla en entrenamiento kingdom: 1.0\n",
            "Exactitud luego de búsqueda en grilla en validación kingdom: 0.9050876442924327\n"
          ]
        }
      ]
    },
    {
      "cell_type": "markdown",
      "source": [
        "10 components\n",
        "- Exactitud luego de búsqueda en grilla en entrenamiento kingdom: 1.0\n",
        "- Exactitud luego de búsqueda en grilla en validación kingdom: 0.8760153911928175"
      ],
      "metadata": {
        "id": "zb6n9jFI_flH"
      }
    },
    {
      "cell_type": "code",
      "source": [
        "# continua"
      ],
      "metadata": {
        "id": "GqloejaT_ge9"
      },
      "execution_count": null,
      "outputs": []
    }
  ]
}